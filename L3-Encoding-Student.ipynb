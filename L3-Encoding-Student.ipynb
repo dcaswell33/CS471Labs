{
 "cells": [
  {
   "cell_type": "markdown",
   "metadata": {},
   "source": [
    "# Encoding/Decoding for Combinatoric Search"
   ]
  },
  {
   "cell_type": "markdown",
   "metadata": {},
   "source": [
    "In this notebook we will practice encoding and decoding a problem.  To start, below is the simulated annealing and greedy algorithm code from last lesson."
   ]
  },
  {
   "cell_type": "code",
   "execution_count": 24,
   "metadata": {},
   "outputs": [],
   "source": [
    "import random\n",
    "import math\n",
    "\n",
    "class Candidate:\n",
    "   \"\"\"\n",
    "   Stores, prints, copies, and mutates potential solutions\n",
    "\n",
    "   \"\"\"\n",
    "   def __init__(self, size, variable_range):\n",
    "      self.items = []\n",
    "      self.variable_range = variable_range\n",
    "      for i in range(size):\n",
    "         self.items.append(random.uniform(-variable_range, variable_range))\n",
    "\n",
    "   def __str__(self):\n",
    "      return str([str(item) for item in self.items])\n",
    "\n",
    "   def copy(self):\n",
    "      newSolution = Candidate(len(self.items), self.variable_range)\n",
    "      newSolution.items = self.items.copy()\n",
    "      return newSolution\n",
    "\n",
    "\"\"\"\n",
    "Randomly mutates one element of the candidate vector\n",
    "\"\"\"\n",
    "def Mutate(candidate):\n",
    "   index = random.randint(0, len(candidate.items) - 1)\n",
    "   candidate.items[index] = random.uniform(-candidate.variable_range, candidate.variable_range)\n",
    "   return candidate\n",
    "\n",
    "\"\"\"\n",
    "Calculates the acceptance probability.  Protects against overflow\n",
    "error when the exponent would be too large\n",
    "\"\"\"\n",
    "def acceptance_probability(old_cost, new_cost, T):\n",
    "   temp = (old_cost - new_cost)/T\n",
    "   if temp > 100: return 0\n",
    "   return math.exp((old_cost - new_cost)/T)\n",
    "\n",
    "\"\"\"\n",
    "Runs the simulated annealing optimization\n",
    "\"\"\"\n",
    "def anneal(candidate, obj_function):\n",
    "\n",
    "   T = 1.0\n",
    "   # Calculate the original objective value\n",
    "   old_cost = obj_function(candidate)\n",
    "   while T > min_temperature:\n",
    "      i = 0\n",
    "\n",
    "      # Go through number of items at a given temperature\n",
    "      while i <= items_per_epoch:\n",
    "\n",
    "         # Generate a neighboring candidate\n",
    "         new_sol = Mutate(candidate.copy())\n",
    "\n",
    "         # Calculate the new solutions's cost\n",
    "         new_cost = obj_function(new_sol)\n",
    "\n",
    "         # Calculate the acceptance probability\n",
    "         acceptance = acceptance_probability(old_cost, new_cost, T)\n",
    "         \n",
    "         # Only update if 1) new is better than old or\n",
    "         # 2) new is worse and acceptance probability is > random \n",
    "         if acceptance > random.random():\n",
    "            candidate = new_sol\n",
    "            old_cost = new_cost\n",
    "         i += 1\n",
    "\n",
    "      # Calculate the cooling cost\n",
    "      T = T*cooling_rate\n",
    "   return candidate, old_cost\n",
    "\n",
    "\"\"\"\n",
    "Runs the greedy optimization\n",
    "\"\"\"\n",
    "def greedy(candidate, obj_function):\n",
    "    i = 0\n",
    "    old_cost = obj_function(candidate)\n",
    "    while i <= items_per_epoch:\n",
    "        #new_sol = Mutate(candidate.copy())\n",
    "        new_sol = Candidate(38,1)\n",
    "        new_cost = obj_function(new_sol)\n",
    "        if new_cost < old_cost:\n",
    "            candidate = new_sol\n",
    "            old_cost = new_cost\n",
    "        i += 1\n",
    "    return candidate, old_cost\n",
    "\n",
    "\"\"\"\n",
    "Provides a formatted outpute for the optimization\n",
    "\"\"\"\n",
    "def optimize(candidate, algorithm, objective_function):\n",
    "    soln = candidate.copy()\n",
    "    print(\"Original Distance = \", objective_function(soln)) \n",
    "    result = algorithm(soln, objective_function)\n",
    "    print(\"Result Distance = \", result[1])\n",
    "    print() \n",
    "    return result[0]\n",
    "\n",
    "\n",
    "\"\"\"\n",
    "Minimizes the sum of the squared terms of the vector\n",
    "\"\"\"\n",
    "def objective_sphere(proposed):\n",
    "    val = 0\n",
    "    for x in proposed.items:\n",
    "        val += x*x\n",
    "    return val\n",
    "\n",
    "items_per_epoch = 100\n",
    "min_temperature = 0.000001\n",
    "cooling_rate = 0.9\n",
    "\n",
    "# Uncomment if you want to test\n",
    "#original_candidate = Candidate(20,10)#number_variables,variables_range)\n",
    "#optimize(original_candidate, greedy, objective_sphere)\n",
    "#optimize(original_candidate, anneal, objective_sphere) "
   ]
  },
  {
   "cell_type": "markdown",
   "metadata": {},
   "source": [
    "For this exercise, we are going to encode a candidate solution for the partition problem.  Below is the list of numbers we are going to use for the problem.  In this example, our goal is to identify the subset of the ppNumbers which add to 1,000,000."
   ]
  },
  {
   "cell_type": "code",
   "execution_count": 30,
   "metadata": {},
   "outputs": [],
   "source": [
    "ppNumbers = [14175, 15055,16616,17495,18072,19390,19731,22161,23320,23717,26343,28725,29127,32257,40020,41867,43155,46298,56734,57176,58308,61848,65825,66042,68634,69189,72936,74287,74537,81942,82027,82623,82802,82988,90467,97042,97507,99564]"
   ]
  },
  {
   "cell_type": "markdown",
   "metadata": {},
   "source": [
    "Next let's define the chromosome you want to execute.  Recall, the algorithm above requires a floating point genotype.  How can you define your candidate structure to solve the partition problem?  Hint: there are 38 potential numbers to choose from in our partition problem example."
   ]
  },
  {
   "cell_type": "code",
   "execution_count": 25,
   "metadata": {},
   "outputs": [],
   "source": [
    "# Change these values to match your selected encoding\n",
    "number_variables = 0\n",
    "variables_range = 0 "
   ]
  },
  {
   "cell_type": "markdown",
   "metadata": {},
   "source": [
    "As we discussed in class, the encoding and the objective calculation must be closely related.  Fill out the distance function to calculate the total sum of the selected values from your proposed solution."
   ]
  },
  {
   "cell_type": "code",
   "execution_count": 35,
   "metadata": {},
   "outputs": [],
   "source": [
    "def distance(proposed):\n",
    "   \"\"\"\n",
    "   Calculates the distance from 1000000 of the numbers\n",
    "   \"\"\"\n",
    "   # Implement your distance function here so that val is the sum of the proposed vector\n",
    "   val = 0\n",
    "   return 1000000-val\n",
    "\n",
    "# Optimizes a list of numbers that sums to 1M. \n",
    "# This normalizes the value (for exponent) and makes it an absolute\n",
    "# value to ensure it is a proper min objective function\n",
    "def partition_problem(proposed):\n",
    "   val = distance(proposed)\n",
    "   return abs(val/1000000)"
   ]
  },
  {
   "cell_type": "markdown",
   "metadata": {},
   "source": [
    "With your objective function and the genotype, now it is time to solve the problem.  The below code should help.  How does Greedy compare with Simulated Annealing for this example?  Why?"
   ]
  },
  {
   "cell_type": "code",
   "execution_count": 50,
   "metadata": {},
   "outputs": [
    {
     "name": "stdout",
     "output_type": "stream",
     "text": [
      "Greedy\n",
      "Original Distance =  0.059625\n",
      "Result Distance =  0.001684\n",
      "\n",
      "Distance from 1M =  1684\n",
      "\n",
      "Simulated Annealing\n",
      "Original Distance =  0.059625\n",
      "Result Distance =  1.4e-05\n",
      "\n",
      "Distance from 1M =  -14\n",
      "\n"
     ]
    }
   ],
   "source": [
    "pp_candidate = Candidate(38,1)\n",
    "print(\"Greedy\")\n",
    "result = optimize(pp_candidate, greedy, partition_problem)\n",
    "print(\"Distance from 1M = \", distance(result))\n",
    "print()\n",
    "\n",
    "print(\"Simulated Annealing\")      \n",
    "result = optimize(pp_candidate, anneal, partition_problem)\n",
    "print(\"Distance from 1M = \", distance(result))\n",
    "print()"
   ]
  },
  {
   "cell_type": "markdown",
   "metadata": {},
   "source": [
    "Finally, we need to return our genotype back into a more real world interpretation (phenotype).  Write a function to take the result and convert it into the list of numbers identified for the solution."
   ]
  },
  {
   "cell_type": "code",
   "execution_count": 3,
   "metadata": {},
   "outputs": [
    {
     "ename": "NameError",
     "evalue": "name 'result' is not defined",
     "output_type": "error",
     "traceback": [
      "\u001b[1;31m---------------------------------------------------------------------------\u001b[0m",
      "\u001b[1;31mNameError\u001b[0m                                 Traceback (most recent call last)",
      "\u001b[1;32m<ipython-input-3-b79c878c2e8b>\u001b[0m in \u001b[0;36m<module>\u001b[1;34m()\u001b[0m\n\u001b[0;32m      8\u001b[0m          \u001b[0mphenotype\u001b[0m\u001b[1;33m.\u001b[0m\u001b[0mAdd\u001b[0m\u001b[1;33m(\u001b[0m\u001b[0mppNumbers\u001b[0m\u001b[1;33m[\u001b[0m\u001b[0mi\u001b[0m\u001b[1;33m]\u001b[0m\u001b[1;33m)\u001b[0m\u001b[1;33m\u001b[0m\u001b[1;33m\u001b[0m\u001b[0m\n\u001b[0;32m      9\u001b[0m \u001b[1;33m\u001b[0m\u001b[0m\n\u001b[1;32m---> 10\u001b[1;33m \u001b[0mprint\u001b[0m\u001b[1;33m(\u001b[0m\u001b[0mconvertToPhenotype\u001b[0m\u001b[1;33m(\u001b[0m\u001b[0mresult\u001b[0m\u001b[1;33m)\u001b[0m\u001b[1;33m)\u001b[0m\u001b[1;33m\u001b[0m\u001b[1;33m\u001b[0m\u001b[0m\n\u001b[0m",
      "\u001b[1;31mNameError\u001b[0m: name 'result' is not defined"
     ]
    }
   ],
   "source": [
    "def convertToPhenotype(candidate):\n",
    "    \"\"\"\n",
    "    Converts the candidate solution into a phenotype list of the selected values\n",
    "    \"\"\"\n",
    "    phenotype=[]\n",
    "    # Create your phenotype decoder here\n",
    "    return phenotype\n",
    "\n",
    "print(convertToPhenotype(result))"
   ]
  }
 ],
 "metadata": {
  "kernelspec": {
   "display_name": "Python 3",
   "language": "python",
   "name": "python3"
  },
  "language_info": {
   "codemirror_mode": {
    "name": "ipython",
    "version": 3
   },
   "file_extension": ".py",
   "mimetype": "text/x-python",
   "name": "python",
   "nbconvert_exporter": "python",
   "pygments_lexer": "ipython3",
   "version": "3.8.2"
  }
 },
 "nbformat": 4,
 "nbformat_minor": 2
}
