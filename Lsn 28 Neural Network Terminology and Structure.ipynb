{
 "cells": [
  {
   "cell_type": "markdown",
   "metadata": {},
   "source": [
    "# Neural Networks Lesson 1\n",
    "\n",
    "## Terminology and Structure\n",
    "\n",
    "\n",
    "### The Basics\n",
    "\n",
    "Get excited, because we are going to build a Neural Network from the ground up. First, however, it is important to understand a couple of key data science topics before we get into building this.\n",
    "\n",
    "When we have a big dataset, we usually have one of three goals: $exploration,\\  classification,\\ and\\ inference$ With exploration, we have no real goal in making a particular guess for a response variable but we want to initially explore our data and see if there are any interesting relations between the variables so that we can later make a hypothesis about the data and possibly build a model. \n",
    "\n",
    "With classification, we are less concerned on how the variables relate to each other but would rather build something that can guess a response. For example, if we were trying to get the most accurate stock price predictions based off of previous prices and other factors, we care less about how our model works and more about getting the best possible fit to our model. Finally, inference is concerned about making completely new predictions based off of a new array of factors.\n",
    "\n",
    "Now you can probably guess where Neural Networks fit in. They make really good guesses into how data relates to a particular response. Thus, they are primarily used for classification. Understanding this, we can now take on a couple more big-picture items. If Neural Networks are used for classification, one has to identify a couple of things\n",
    "\n",
    "1. You have to identify a response variable in your dataset. This is the thing you are interested in classifying. It could be stock prices, if someone will be a high or low performer, house prices, etc.\n",
    "\n",
    "2. After you have your response variable you will want to identify which factors in your dataset will help indicate the output. For example, if I was trying to predict how well you will do in this class, I might want factors like how much time you study each week, your grades in other classes, etc.\n",
    "\n",
    "3. Once you have identified these things, there are some interim steps such as cleaning your data so that it can be integrated into the Neural Network, but you are pretty much ready to train your neural network and be on your way.\n",
    "\n",
    "For the next few lessons, the above will not be too important, but if we are going to build an entire Neural Network, we should know when we use it, and the basic steps to employ it.\n",
    "\n",
    "Now let’s talk about the structure of Neural Networks.   \n",
    "\n",
    "\n",
    "## Neural Networks\n",
    "\n",
    "In stats you probably built a linear regression prediction model. That was you had some response and you fit a couple of factors to the data in a linear manner. This might look familiar\n",
    "\n",
    "$\\hat{y} = \\beta_0 + \\beta_1x_1 + \\beta_2x_2 ....$\n",
    "\n",
    "Where y was your response and $x_1, x_2,..x_n$ were your different factors you used to predict $\\hat{y}$. I bring this up to rejog your memory on building models to predict a response. I also bring it up because when people first hear \"Neural Network\" they sometimes shut down thinking, this is going to be super complicated and I have no prior knowledge on this concept. In reality, Neural networks are just another statistical model that have a more visual representation that is based on the human brain.\n",
    "\n",
    "\n",
    "### The Neuron\n",
    "\n",
    "Aren't you glad you are at the academy where they make you take biology even as a CS major. Now it might have some use. The smallest unit in a neural network is the Neuron based on neurons in our brain. Here is a neural network neuron and a biological one.\n",
    "\n",
    "<img src=\"./neuron.png\">\n",
    "\n",
    "AHHHHHH scary picture with math that I don't understand. Well let's break it down. The Neuron will be the first object we build in python. The Neuron takes in a series of numerical inputs. It has an array of predefined weights one coressponding to each input. It then takes the dot product between these inputs and the weights and outputs it. A lot of times we will also have an $activation \\ function$ that goes we will put the dot product into to get the final output. You will read all about this in Negnivitsky. Here is everything above in math language. Take a second to go through and understand.\n",
    "\n",
    "$\\vec{W} = Weight\\ vector$\n",
    "\n",
    "$\\vec{I} = Input\\ vector$\n",
    "\n",
    "$\\theta = Bias$\n",
    "\n",
    "Here is what our output looks like without an activation function\n",
    "\n",
    "$output = \\vec{W}\\cdot\\vec{I} - \\theta$\n",
    "\n",
    "Here is what our output looks like with an activation function\n",
    "\n",
    "$output = activationfunction(\\vec{W}\\cdot\\vec{I} - \\theta)$\n",
    "\n",
    "Effectively, all that is going to happen is we are going to send some values into a bunch of these neurons and the neurons will calculate an output as the weighted sum of the Weights (and bias) and the input vector.  We will go over this in more detail with the feed forward algorithm in tomorrow's lesson.\n",
    "\n"
   ]
  },
  {
   "cell_type": "markdown",
   "metadata": {},
   "source": [
    "This neuron makes the starting point of our overall network.  We will walk through the different components of the network incrementally but I think it helps to see where we are going:\n",
    "\n",
    "<img src=\"./network.png\">\n",
    "\n",
    "As you can see in this image we are going to have multiple neurons in layers which will make up our network.  The neurons at each level each take all of the outputs for either the input data (on the first layer) or the outputs from the neurons on previous layers.  This repeats through each of the middle layers of neurons, called hidden layers, until you get to the final layer which then compresses these outputs into one or more outputs.  \n"
   ]
  },
  {
   "cell_type": "markdown",
   "metadata": {},
   "source": [
    "Having the goal network in mind let's now build our neuron.  We are going to be building our Neural Network as an object oriented model.  In this case our Neuron will need to have the following variables and functions:\n",
    "<img src=\"./neuron_mine.png\">\n",
    "\n",
    "\n",
    "1. Instance Variables\n",
    "        Weights -- These will be the weights (one per each value in the previous layer) that we compute the dot product with the inputs \n",
    "        Result -- This will be the stored output of the Neuron initialized at 0\n",
    "        Other instance variables are left in the method but will be explained in future lessons\n",
    "2. Functions\n",
    "        Initialization -- a simple function to initialize the instance variables and set the initial weights\n",
    "        set_weights -- a function that sets the weights to a user-defined amount (we will use for testing)\n",
    "        \n",
    "In the below code, finish up the intialization function so that it initializes the weights so that the list contains weights that correspond to each value in the outputs of the previous layer and the bias.  All of these values must be between -initialization_value and +initialization_value."
   ]
  },
  {
   "cell_type": "code",
   "execution_count": 1,
   "metadata": {},
   "outputs": [],
   "source": [
    "class Neuron:\n",
    "\n",
    "    def __init__(self, number_neurons_in_previous_layer, neuron_index, initialization_value):\n",
    "        \"\"\"\n",
    "        Initializes a neuron in the owning layer\n",
    "        :param number_neurons_in_previous_layer: number of neurons in previous layer\n",
    "        :param neuron_index: index of the neuron within the layer\n",
    "        :param initialization_value: value to initialize this neuron's weights between +/- this value\n",
    "        \"\"\"\n",
    "        self.Weights = []\n",
    "        self.Result = 0\n",
    "        self.previous_values = []\n",
    "        self.delta_weights = []\n",
    "        self.Neuron_Index = neuron_index\n",
    "        # Your Code Here <make sure you don't forget the bias!>\n",
    "\n",
    "    def set_weights(self, weights):\n",
    "        self.Weights = weights"
   ]
  },
  {
   "cell_type": "markdown",
   "metadata": {},
   "source": [
    "If you need, my initialization code for the weights is:\n",
    "\n",
    "<code>        \n",
    "        for i in range(number_neurons_in_previous_layer + 1):\n",
    "            self.Weights.append(random.uniform(-initialization_value, initialization_value))\n",
    "</code>\n",
    "\n",
    "With this code we can now use our Neuron object to store the weights which we will be updating through training once we have our model!  "
   ]
  },
  {
   "cell_type": "markdown",
   "metadata": {},
   "source": [
    "## Layers\n",
    "With the neuron we will now build our network up.  Working up we store several neurons into each layer, so let's build an object to store the layers as a List of neurons.\n",
    "<img src=\"./layer.png\">\n",
    "\n",
    "Our layer is just going to hold the List of neurons and an index (again for manually setting so we can test).  Finish up the below function so that it creates the correct amount of neurons for the layer:"
   ]
  },
  {
   "cell_type": "code",
   "execution_count": 2,
   "metadata": {},
   "outputs": [],
   "source": [
    "class Layer:\n",
    "\n",
    "    def __init__(self, number_neurons_previous_layer, number_neurons, layer_index, initialization_value):\n",
    "        \"\"\"\n",
    "        A layer of the network\n",
    "        :param number_neurons_previous_layer: amount of neurons in the previous layer\n",
    "        :param number_neurons: amount of neurons in this layer\n",
    "        :param layer_index: index of this layer (for referencing)\n",
    "        :param initialization_value: weight initialized between +/- this value\n",
    "        \"\"\"\n",
    "        self.Neurons = []\n",
    "        self.Layer_Index = layer_index\n",
    "        # Your Code here to create all of the neurons and add to the layer\n",
    "\n",
    "    def set_weights(self, neuron_index, weights):\n",
    "        self.Neurons[neuron_index].set_weights(weights)"
   ]
  },
  {
   "cell_type": "markdown",
   "metadata": {},
   "source": [
    "My solution for creating/appending the neurons is below if you need:\n",
    "\n",
    "<code>        for i in range(number_neurons):\n",
    "            self.Neurons.append(Neuron(number_neurons_previous_layer, i, initialization_value))</code>"
   ]
  },
  {
   "cell_type": "markdown",
   "metadata": {},
   "source": [
    "Great!  Now we have a way to store the information needed for neurons and a layer to hold all of the neurons, next we need to put the layers together to create our network. \n",
    "\n",
    "<img src=\"./network.png\">\n",
    "\n",
    "As you can see, the network is just the different layers in sequence.  For some terminology, the first layer is typically referred to as the input layer, the last layer is the output layer, all of the layers in the middle are called hidden layers.  In some descriptions you will see the input layer is simply a neuron representation of the input vector without any additional calculations.  When you are implementing your neural network you will have to determine how many layers you want to use and how many neurons per layer.  Note: the layers can have different amount of neurons per layer if you so choose.\n",
    "\n",
    "Complete the initialization method below to initialize all of the layers and add them to the network itself."
   ]
  },
  {
   "cell_type": "code",
   "execution_count": 3,
   "metadata": {},
   "outputs": [],
   "source": [
    "class Network:\n",
    "\n",
    "    def __init__(self, description, initialization_value, learning_rate):\n",
    "        \"\"\"\n",
    "        Initializes the Neural Network \n",
    "        :param description:  List of how many neurons per layer; size of the list is number of layers\n",
    "        :param initialization_value: the range from which to initialize the neuron weights\n",
    "        :param learning_rate: used for training the neural network\n",
    "        \"\"\"\n",
    "        self.Layers = []\n",
    "        self.Learning_Rate = learning_rate\n",
    "        # Your Code Here\n",
    "        \n",
    "\n",
    "    def set_weights(self, layer_index, neuron_index, weights):\n",
    "        self.Layers[layer_index].set_weights(neuron_index, weights)"
   ]
  },
  {
   "cell_type": "markdown",
   "metadata": {},
   "source": [
    "My code for initializing is: \n",
    "\n",
    "<code>\n",
    "        # Initialize the input layer\n",
    "        self.Layers.append(Layer(0, description[0], 0, initialization_value))\n",
    "        # Initialize the subsequent layers\n",
    "        for i in range(1, len(description)):\n",
    "            self.Layers.append(Layer(description[i - 1], description[i], i, initialization_value))</code>"
   ]
  },
  {
   "cell_type": "markdown",
   "metadata": {},
   "source": [
    "Finally we have all of the pieces we will need for our network.  Now it is time to do some testing to make sure it works as expected.  Let's try to build the network that is given in Negnivitski pg 181.  To help you confirm you have set up your network correctly you can use the below print method:"
   ]
  },
  {
   "cell_type": "code",
   "execution_count": 4,
   "metadata": {},
   "outputs": [],
   "source": [
    "def print_network(network):\n",
    "    \"\"\"\n",
    "    Prints the current neural network weights and results for each neuron\n",
    "    \"\"\"\n",
    "    print(\"Neuron_Index: [Weights] => Neuron_Output\\n\")\n",
    "\n",
    "    for layer in network.Layers:\n",
    "        if layer.Layer_Index == 0:\n",
    "            layer_type = \"Input\"\n",
    "        elif layer.Layer_Index == (len(network.Layers) - 1):\n",
    "            layer_type = \"Output\"\n",
    "        else:\n",
    "            layer_type = \"Hidden\"\n",
    "        print(\"Layer {0} - {1}\".format(layer.Layer_Index, layer_type))\n",
    "        for neuron in layer.Neurons:\n",
    "            print(\"   Neuron {0}: {1} => {2}\".format(neuron.Neuron_Index, neuron.Weights, neuron.Result))\n"
   ]
  },
  {
   "cell_type": "markdown",
   "metadata": {},
   "source": [
    "Alright, now it is up to you.  Create a neural network like the one presented in Negnivitski pg 181 with the values stated then print it out to confirm you have created it correctly."
   ]
  },
  {
   "cell_type": "code",
   "execution_count": null,
   "metadata": {},
   "outputs": [],
   "source": []
  }
 ],
 "metadata": {
  "kernelspec": {
   "display_name": "Python 3",
   "language": "python",
   "name": "python3"
  },
  "language_info": {
   "codemirror_mode": {
    "name": "ipython",
    "version": 3
   },
   "file_extension": ".py",
   "mimetype": "text/x-python",
   "name": "python",
   "nbconvert_exporter": "python",
   "pygments_lexer": "ipython3",
   "version": "3.7.2"
  }
 },
 "nbformat": 4,
 "nbformat_minor": 2
}
