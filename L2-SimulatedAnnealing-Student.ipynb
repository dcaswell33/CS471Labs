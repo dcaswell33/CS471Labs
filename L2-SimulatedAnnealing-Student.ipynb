{
 "cells": [
  {
   "cell_type": "markdown",
   "metadata": {},
   "source": [
    "# Simulated Annealing"
   ]
  },
  {
   "cell_type": "markdown",
   "metadata": {},
   "source": [
    "In this notebook we will implement the simulated annealing algorithm and test on a simple optimization problem.  The first thing we will create is the class to hold the candidate solutions. \n",
    "\n",
    "The below class will allow you to store, copy, and print a candidate solution.  \n",
    "\n",
    "Q1) What type (bool, integer, float) of solutions does this class implement?\n",
    "\n",
    "Q2) What are the specific attributes that this class stores?"
   ]
  },
  {
   "cell_type": "code",
   "execution_count": 5,
   "metadata": {},
   "outputs": [],
   "source": [
    "import random\n",
    "import math\n",
    "\n",
    "class Candidate:\n",
    "    \"\"\"\n",
    "    Stores, prints, copies, and mutates potential solutions\n",
    "    \"\"\"\n",
    "    def __init__(self, size, variable_range):\n",
    "        self.items = []\n",
    "        self.variable_range = variable_range\n",
    "        for i in range(size):\n",
    "            self.items.append(random.uniform(-variable_range, variable_range))\n",
    "    \"\"\"\n",
    "    Prints out the candidate (genotype) to a string\n",
    "    \"\"\"\n",
    "    def __str__(self):\n",
    "        return str([str(item) for item in self.items])\n",
    "    \n",
    "    \"\"\"\n",
    "    Performs and returns a deep-copy of a candidate solution\n",
    "    \"\"\"\n",
    "    def copy(self):\n",
    "        newSolution = Candidate(len(self.items), self.variable_range)\n",
    "        newSolution.items = self.items.copy()\n",
    "        return newSolution"
   ]
  },
  {
   "cell_type": "markdown",
   "metadata": {},
   "source": [
    "Next we need to create our objective function.  For this notebook, we will use a simple objective function called objective sphere.  Objective sphere attempts to minimize the squared sum of the candidate solution.\n",
    "\n",
    "Q3) What is the optimal solution for this objective sphere problem?"
   ]
  },
  {
   "cell_type": "code",
   "execution_count": 6,
   "metadata": {},
   "outputs": [],
   "source": [
    "def objective_sphere(proposed):\n",
    "    \"\"\"\n",
    "    Minimizes the sum of the squared terms of the vector\n",
    "    \"\"\"\n",
    "    val = 0\n",
    "    for x in proposed.items:\n",
    "        val += x*x\n",
    "    return val"
   ]
  },
  {
   "cell_type": "markdown",
   "metadata": {},
   "source": [
    "Q4) Next, implement a greedy algorithm to get a sense of its effectiveness."
   ]
  },
  {
   "cell_type": "code",
   "execution_count": 7,
   "metadata": {},
   "outputs": [],
   "source": [
    "def greedy(candidate, obj_function):\n",
    "    \"\"\"\n",
    "    Conducts a greedy search of candidates to find the min\n",
    "    \"\"\"\n",
    "    i = 0\n",
    "    candidate = Candidate(10,5)\n",
    "    cost = obj_function(candidate)\n",
    "    while i <= items_per_epoch:\n",
    "        # Implement a greedy algorithm to randomly explore potential solutions\n",
    "        \n",
    "        i += 1\n",
    "    return candidate, cost"
   ]
  },
  {
   "cell_type": "markdown",
   "metadata": {},
   "source": [
    "Next, let's create a standard execution template to format the output of our algorithm and objective function."
   ]
  },
  {
   "cell_type": "code",
   "execution_count": 8,
   "metadata": {},
   "outputs": [],
   "source": [
    "def optimize(candidate, algorithm, objective_function):\n",
    "    \"\"\"\n",
    "    Main execution body for optimizing the objective function\n",
    "    \"\"\"\n",
    "    soln = candidate.copy()\n",
    "    print(\"Initial\")\n",
    "    print(soln, \" = > Objective Value = \", objective_function(soln)) \n",
    "    result = algorithm(soln, objective_function)\n",
    "    print()\n",
    "    print(\"Result\")\n",
    "    print(result[0], \" = > Objective Value = \", result[1]) "
   ]
  },
  {
   "cell_type": "markdown",
   "metadata": {},
   "source": [
    "Now time to set up some global variables to help our execution.  These are called meta-parameters.  The three meta-parameters we will instantiate will control the number of items updated each epoch (items_per_epoch), minimum temperature for our Simulated Annealing algorithm (min_temperature), and the annealing cooling rate (cooling_rate).\n",
    "\n",
    "We can also create our original candidate solution with parameters of candidate_size (how many values in the vector), and candidate_range (the +/- range for each value)."
   ]
  },
  {
   "cell_type": "code",
   "execution_count": 9,
   "metadata": {},
   "outputs": [],
   "source": [
    "items_per_epoch = 100\n",
    "min_temperature = 0.000001\n",
    "cooling_rate = 0.9\n",
    "candidate_size = 20\n",
    "candidate_range = 10\n",
    "original_candidate = Candidate(candidate_size, candidate_range)"
   ]
  },
  {
   "cell_type": "markdown",
   "metadata": {},
   "source": [
    "Finally, let's run the greedy algorithm against the objective_sphere problem to see it's effectiveness."
   ]
  },
  {
   "cell_type": "code",
   "execution_count": 10,
   "metadata": {},
   "outputs": [
    {
     "name": "stdout",
     "output_type": "stream",
     "text": [
      "Initial\n",
      "['-1.907075615990422', '-4.7948664531294405', '2.4810156525911893', '-7.466558792316597', '-8.441051731321727', '6.6814973380929885', '2.46885078076955', '6.203426950630295', '3.40524762874751', '-5.292530274008693', '-8.078473495049787', '-3.630344732712512', '-5.256230638891164', '3.2502465867477515', '-5.307820833618646', '-0.17547211312093758', '-5.165216077805428', '1.0290866115812065', '4.054297537522785', '-5.788697468097745']  = > Objective Value =  511.1324758508673\n",
      "\n",
      "Result\n",
      "['-1.528981088115282', '4.282196819844366', '-4.780805516322618', '-2.358820648896799', '-0.9062847891260777', '4.865794511882946', '-0.5634065195620312', '-2.935448373615505', '-4.71104003172729', '-4.085013078082703']  = > Objective Value =  121.40795145022429\n"
     ]
    }
   ],
   "source": [
    "optimize(original_candidate, greedy, objective_sphere)"
   ]
  },
  {
   "cell_type": "markdown",
   "metadata": {},
   "source": [
    "The greedy algorithm will result in a variety of outputs that could range from great to abysmal as it is all random chance.\n",
    "\n",
    "\n",
    "Next let's build the Simulated Annealing algorithm.  \n",
    "\n",
    "Q5) First, implement the mutation operator.  This changes a single element of the candidate solution to a random value."
   ]
  },
  {
   "cell_type": "code",
   "execution_count": 11,
   "metadata": {},
   "outputs": [],
   "source": [
    "def Mutate(candidate):\n",
    "    \"\"\"\n",
    "    Take a candidate object and returns the object with a single value changed\n",
    "    \"\"\"\n",
    "    # Implement your mutation method here.  The algorithm should select some random element\n",
    "    # from the candidate array and change it into a random number between \n",
    "    #-candidate.variable_range and +candidate.variable_range\n",
    "    \n",
    "    return candidate"
   ]
  },
  {
   "cell_type": "markdown",
   "metadata": {},
   "source": [
    "A key function of our simulated annealing algorithm is the acceptance probability.  Mathematically, this probability is:\n",
    "\n",
    "$$e^{\\frac{\\Delta E}{T}}$$\n",
    "\n",
    "where ${\\Delta E}$ is the change in the objective function (old - new) and ${T}$ is the current Temperature.  \n",
    "\n",
    "Q6) Update the below function to calculate the correct acceptance probability:"
   ]
  },
  {
   "cell_type": "code",
   "execution_count": 12,
   "metadata": {},
   "outputs": [],
   "source": [
    "def acceptance_probability(old_cost, new_cost, T):\n",
    "   val = 1 # Your Code Here\n",
    "   if val > 100: return 0 # protects against overflow on exp\n",
    "   return math.exp(val)"
   ]
  },
  {
   "cell_type": "markdown",
   "metadata": {},
   "source": [
    "Q7) It is finally time to create the overall simulated annealing function.  The pseudocode is below:\n",
    "\n",
    "anneal(candidate, obj_function):\n",
    "\n",
    "    T = 1.0\n",
    "    old_cost = evaluation(candidate)\n",
    "    while T > minimum_temperature:\n",
    "        for i = 0 to items_per_epoch:\n",
    "            new_solution = Mutate(candidate) # make sure you are not changing candidate itself\n",
    "            new_cost = evaluation(new_solution)\n",
    "            acceptance = acceptance_probability(old_cost, new_cost, T)\n",
    "            \n",
    "            if (acceptance > random):\n",
    "                candidate = new_solution\n",
    "                old_cost = new_cost\n",
    "        T = T * cooling_rate\n",
    "\n",
    "return candidate, old_cost\n",
    "            "
   ]
  },
  {
   "cell_type": "code",
   "execution_count": 13,
   "metadata": {},
   "outputs": [],
   "source": [
    "def anneal(candidate, obj_function):\n",
    "   \"\"\"\n",
    "   Simulated Annealing algorithm\n",
    "   \"\"\"\n",
    "   # Your Code Here\n",
    "   return candidate, old_cost"
   ]
  },
  {
   "cell_type": "markdown",
   "metadata": {},
   "source": [
    "Now try running your simulated annealing algorithm.  How does it compare with the greedy algorithm?"
   ]
  },
  {
   "cell_type": "code",
   "execution_count": 14,
   "metadata": {},
   "outputs": [
    {
     "name": "stdout",
     "output_type": "stream",
     "text": [
      "Initial\n",
      "['-1.907075615990422', '-4.7948664531294405', '2.4810156525911893', '-7.466558792316597', '-8.441051731321727', '6.6814973380929885', '2.46885078076955', '6.203426950630295', '3.40524762874751', '-5.292530274008693', '-8.078473495049787', '-3.630344732712512', '-5.256230638891164', '3.2502465867477515', '-5.307820833618646', '-0.17547211312093758', '-5.165216077805428', '1.0290866115812065', '4.054297537522785', '-5.788697468097745']  = > Objective Value =  511.1324758508673\n",
      "\n",
      "Result\n",
      "['-0.0130352921249699', '-0.04599035446502242', '-0.0002820410468817869', '-0.006856674542085273', '0.022800877596743874', '0.017212338077857936', '0.021917497584212242', '0.0014433441097043698', '0.03353845140165035', '0.0642987789424243', '0.06754770193317938', '-0.07808590831602302', '0.001006567688541793', '0.0986028667215777', '-0.02249838954778305', '-0.026483188376287714', '-0.015465740374461134', '-0.02571079138731136', '0.03344220115259233', '-0.04018792624893308']  = > Objective Value =  0.034114750887545446\n"
     ]
    }
   ],
   "source": [
    "optimize(original_candidate, anneal, objective_sphere)"
   ]
  }
 ],
 "metadata": {
  "kernelspec": {
   "display_name": "Python 3",
   "language": "python",
   "name": "python3"
  },
  "language_info": {
   "codemirror_mode": {
    "name": "ipython",
    "version": 3
   },
   "file_extension": ".py",
   "mimetype": "text/x-python",
   "name": "python",
   "nbconvert_exporter": "python",
   "pygments_lexer": "ipython3",
   "version": "3.8.2"
  }
 },
 "nbformat": 4,
 "nbformat_minor": 2
}
